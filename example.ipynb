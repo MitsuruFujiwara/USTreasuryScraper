{
 "cells": [
  {
   "cell_type": "code",
   "execution_count": 2,
   "metadata": {
    "collapsed": false
   },
   "outputs": [],
   "source": [
    "from USTreasuryScraper import USTScraper"
   ]
  },
  {
   "cell_type": "code",
   "execution_count": 5,
   "metadata": {
    "collapsed": false
   },
   "outputs": [],
   "source": [
    "ust = USTScraper()\n",
    "df = ust.getData()"
   ]
  },
  {
   "cell_type": "code",
   "execution_count": 6,
   "metadata": {
    "collapsed": false
   },
   "outputs": [
    {
     "data": {
      "text/html": [
       "<div>\n",
       "<table border=\"1\" class=\"dataframe\">\n",
       "  <thead>\n",
       "    <tr style=\"text-align: right;\">\n",
       "      <th></th>\n",
       "      <th>UST_1M</th>\n",
       "      <th>UST_3M</th>\n",
       "      <th>UST_6M</th>\n",
       "      <th>UST_1Y</th>\n",
       "      <th>UST_2Y</th>\n",
       "      <th>UST_3Y</th>\n",
       "      <th>UST_5Y</th>\n",
       "      <th>UST_7Y</th>\n",
       "      <th>UST_10Y</th>\n",
       "      <th>UST_20Y</th>\n",
       "      <th>UST_30Y</th>\n",
       "    </tr>\n",
       "    <tr>\n",
       "      <th>date</th>\n",
       "      <th></th>\n",
       "      <th></th>\n",
       "      <th></th>\n",
       "      <th></th>\n",
       "      <th></th>\n",
       "      <th></th>\n",
       "      <th></th>\n",
       "      <th></th>\n",
       "      <th></th>\n",
       "      <th></th>\n",
       "      <th></th>\n",
       "    </tr>\n",
       "  </thead>\n",
       "  <tbody>\n",
       "    <tr>\n",
       "      <th>2001-07-31</th>\n",
       "      <td>3.67</td>\n",
       "      <td>3.54</td>\n",
       "      <td>3.47</td>\n",
       "      <td>3.53</td>\n",
       "      <td>3.79</td>\n",
       "      <td>4.06</td>\n",
       "      <td>4.57</td>\n",
       "      <td>4.86</td>\n",
       "      <td>5.07</td>\n",
       "      <td>5.61</td>\n",
       "      <td>5.51</td>\n",
       "    </tr>\n",
       "    <tr>\n",
       "      <th>2001-08-01</th>\n",
       "      <td>3.65</td>\n",
       "      <td>3.53</td>\n",
       "      <td>3.47</td>\n",
       "      <td>3.56</td>\n",
       "      <td>3.83</td>\n",
       "      <td>4.09</td>\n",
       "      <td>4.62</td>\n",
       "      <td>4.90</td>\n",
       "      <td>5.11</td>\n",
       "      <td>5.63</td>\n",
       "      <td>5.53</td>\n",
       "    </tr>\n",
       "    <tr>\n",
       "      <th>2001-08-02</th>\n",
       "      <td>3.65</td>\n",
       "      <td>3.53</td>\n",
       "      <td>3.46</td>\n",
       "      <td>3.57</td>\n",
       "      <td>3.89</td>\n",
       "      <td>4.17</td>\n",
       "      <td>4.69</td>\n",
       "      <td>4.97</td>\n",
       "      <td>5.17</td>\n",
       "      <td>5.68</td>\n",
       "      <td>5.57</td>\n",
       "    </tr>\n",
       "    <tr>\n",
       "      <th>2001-08-03</th>\n",
       "      <td>3.63</td>\n",
       "      <td>3.52</td>\n",
       "      <td>3.47</td>\n",
       "      <td>3.57</td>\n",
       "      <td>3.91</td>\n",
       "      <td>4.22</td>\n",
       "      <td>4.72</td>\n",
       "      <td>4.99</td>\n",
       "      <td>5.20</td>\n",
       "      <td>5.70</td>\n",
       "      <td>5.59</td>\n",
       "    </tr>\n",
       "    <tr>\n",
       "      <th>2001-08-06</th>\n",
       "      <td>3.62</td>\n",
       "      <td>3.52</td>\n",
       "      <td>3.47</td>\n",
       "      <td>3.56</td>\n",
       "      <td>3.88</td>\n",
       "      <td>4.17</td>\n",
       "      <td>4.71</td>\n",
       "      <td>4.99</td>\n",
       "      <td>5.19</td>\n",
       "      <td>5.70</td>\n",
       "      <td>5.59</td>\n",
       "    </tr>\n",
       "  </tbody>\n",
       "</table>\n",
       "</div>"
      ],
      "text/plain": [
       "            UST_1M  UST_3M  UST_6M  UST_1Y  UST_2Y  UST_3Y  UST_5Y  UST_7Y  \\\n",
       "date                                                                         \n",
       "2001-07-31    3.67    3.54    3.47    3.53    3.79    4.06    4.57    4.86   \n",
       "2001-08-01    3.65    3.53    3.47    3.56    3.83    4.09    4.62    4.90   \n",
       "2001-08-02    3.65    3.53    3.46    3.57    3.89    4.17    4.69    4.97   \n",
       "2001-08-03    3.63    3.52    3.47    3.57    3.91    4.22    4.72    4.99   \n",
       "2001-08-06    3.62    3.52    3.47    3.56    3.88    4.17    4.71    4.99   \n",
       "\n",
       "            UST_10Y  UST_20Y  UST_30Y  \n",
       "date                                   \n",
       "2001-07-31     5.07     5.61     5.51  \n",
       "2001-08-01     5.11     5.63     5.53  \n",
       "2001-08-02     5.17     5.68     5.57  \n",
       "2001-08-03     5.20     5.70     5.59  \n",
       "2001-08-06     5.19     5.70     5.59  "
      ]
     },
     "execution_count": 6,
     "metadata": {},
     "output_type": "execute_result"
    }
   ],
   "source": [
    "df.head()"
   ]
  },
  {
   "cell_type": "code",
   "execution_count": null,
   "metadata": {
    "collapsed": true
   },
   "outputs": [],
   "source": []
  }
 ],
 "metadata": {
  "anaconda-cloud": {},
  "kernelspec": {
   "display_name": "Python [conda root]",
   "language": "python",
   "name": "conda-root-py"
  },
  "language_info": {
   "codemirror_mode": {
    "name": "ipython",
    "version": 3
   },
   "file_extension": ".py",
   "mimetype": "text/x-python",
   "name": "python",
   "nbconvert_exporter": "python",
   "pygments_lexer": "ipython3",
   "version": "3.5.2"
  }
 },
 "nbformat": 4,
 "nbformat_minor": 1
}
